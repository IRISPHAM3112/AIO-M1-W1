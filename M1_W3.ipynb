{
  "nbformat": 4,
  "nbformat_minor": 0,
  "metadata": {
    "colab": {
      "provenance": [],
      "authorship_tag": "ABX9TyPwatHQuPmSivjCxHJaXMFl",
      "include_colab_link": true
    },
    "kernelspec": {
      "name": "python3",
      "display_name": "Python 3"
    },
    "language_info": {
      "name": "python"
    }
  },
  "cells": [
    {
      "cell_type": "markdown",
      "metadata": {
        "id": "view-in-github",
        "colab_type": "text"
      },
      "source": [
        "<a href=\"https://colab.research.google.com/github/IRISPHAM3112/AIO-M1/blob/main/M1_W3.ipynb\" target=\"_parent\"><img src=\"https://colab.research.google.com/assets/colab-badge.svg\" alt=\"Open In Colab\"/></a>"
      ]
    },
    {
      "cell_type": "code",
      "source": [
        "# Exe1\n",
        "import torch\n",
        "import torch.nn as nn\n",
        "class Softmax(nn.Module):\n",
        "  def __init__(self):\n",
        "    #Khoi tao lop con tu nn.Module\n",
        "    super(Softmax, self).__init__()\n",
        "  def forward(self, x):\n",
        "    e_x = torch.exp(x)\n",
        "    return e_x/torch.sum(e_x)\n",
        "  def softmax_stable(self,x ):\n",
        "    e_x = torch.exp(x-torch.max(x))\n",
        "    return e_x/torch.sum(e_x)\n",
        "\n",
        "data = torch.Tensor([1,2,3])\n",
        "softmax = Softmax()\n",
        "output = softmax(data)\n",
        "print(output)\n",
        "output_stable = softmax.softmax_stable(data)\n",
        "output_stable\n",
        "print(output_stable)"
      ],
      "metadata": {
        "colab": {
          "base_uri": "https://localhost:8080/"
        },
        "id": "lVRBUUzR00DG",
        "outputId": "9007c8b1-4a25-481e-a679-962ffb3644e0"
      },
      "execution_count": null,
      "outputs": [
        {
          "output_type": "stream",
          "name": "stdout",
          "text": [
            "tensor([0.0900, 0.2447, 0.6652])\n",
            "tensor([0.0900, 0.2447, 0.6652])\n"
          ]
        }
      ]
    },
    {
      "cell_type": "code",
      "source": [
        "#Exe2\n",
        "class Person():\n",
        "  def __init__(self, name, yob):\n",
        "    self.name = name\n",
        "    self.yob = yob\n",
        "  def add_person(object_list, person):\n",
        "    object_list.append(person)\n",
        "  def describe(self):\n",
        "    print(self.name, self.yob)\n",
        "class Student(Person):\n",
        "  def __init__(self, name, yob, grade):\n",
        "    super().__init__(name, yob)\n",
        "    self.grade = grade\n",
        "  def describe(self):\n",
        "    print(self.name, self.yob, self.grade)\n",
        "class Teacher(Person):\n",
        "  def __init__(self, name, yob, subject):\n",
        "    super().__init__(name, yob)\n",
        "    self.subject = subject\n",
        "  def describe(self):\n",
        "    print(self.name, self.yob, self.subject)\n",
        "\n",
        "class Doctor(Person):\n",
        "  def __init__(self, name, yob, specialist):\n",
        "    super().__init__(name, yob)\n",
        "    self.specialist = specialist\n",
        "  def describe(self):\n",
        "    print(self.name, self.yob, self.specialist)\n",
        "\n",
        "\n",
        "\n",
        "class Ward:\n",
        "  def __init__(self, ward_name):\n",
        "    self.ward_name = ward_name\n",
        "    self.people = []\n",
        "  def add_person(self, person):\n",
        "    self.people.append(person)\n",
        "  def describe(self):\n",
        "    print(self.ward_name)\n",
        "    for person in self.people:\n",
        "      person.describe()\n",
        "  def count_doctor(self):\n",
        "    count = 0\n",
        "    for person in self.people:\n",
        "      if isinstance(person, Doctor):\n",
        "        count+=1\n",
        "    return count\n",
        "  def sort_age(self):\n",
        "    age_list = [person.yob for person in self.people]\n",
        "    age_list.sort()\n",
        "    return age_list\n",
        "  def compute_average_age(self):\n",
        "    age_teacher = [person.yob for person in self.people if isinstance(person, Teacher)]\n",
        "    average_age = sum(age_teacher)/len(age_teacher)\n",
        "    return average_age\n",
        "\n",
        "student1 = Student(name = \"Toan\", yob = 2003, grade = \"7\")\n",
        "teacher1 = Teacher( name =\"teacherA\", yob =1969 , subject =\" Math \")\n",
        "\n",
        "\n",
        "doctor1 = Doctor( name =\"doctorA\", yob =1945 , specialist =\" Endocrinologists \")\n",
        "teacher2 = Teacher(name=\"teacherB\", yob=1995, subject=\"History\")\n",
        "doctor2 = Doctor(name=\"doctorB\", yob=1975, specialist=\"Cardiologists\")\n",
        "teacher3 = Teacher(name=\"teacherC\", yob=1995, subject=\"English\")\n",
        "ward1 = Ward(ward_name=\"Ward1\")\n",
        "ward1.add_person(student1)\n",
        "ward1.add_person(teacher1)\n",
        "ward1.add_person(teacher2)\n",
        "ward1.add_person(doctor1)\n",
        "ward1.add_person(doctor2)\n",
        "ward1.add_person(teacher3)\n",
        "ward1.describe()\n",
        "\n",
        "ward1.count_doctor()\n",
        "ward1.sort_age()\n",
        "ward1.compute_average_age()"
      ],
      "metadata": {
        "id": "fJ0jZLQND_Jy",
        "colab": {
          "base_uri": "https://localhost:8080/"
        },
        "outputId": "ee8562e5-63a0-49bd-f034-3b90413b2c28"
      },
      "execution_count": null,
      "outputs": [
        {
          "output_type": "stream",
          "name": "stdout",
          "text": [
            "Ward1\n",
            "Toan 2003 7\n",
            "teacherA 1969  Math \n",
            "teacherB 1995 History\n",
            "doctorA 1945  Endocrinologists \n",
            "doctorB 1975 Cardiologists\n",
            "teacherC 1995 English\n"
          ]
        },
        {
          "output_type": "execute_result",
          "data": {
            "text/plain": [
              "1986.3333333333333"
            ]
          },
          "metadata": {},
          "execution_count": 18
        }
      ]
    },
    {
      "cell_type": "code",
      "execution_count": null,
      "metadata": {
        "colab": {
          "base_uri": "https://localhost:8080/"
        },
        "id": "SVrnjkmixx7D",
        "outputId": "4d2903b2-fe58-481c-b673-5dc1864d309c"
      },
      "outputs": [
        {
          "output_type": "stream",
          "name": "stdout",
          "text": [
            "False\n",
            "2\n",
            "2\n",
            "1\n",
            "1\n",
            "True\n"
          ]
        }
      ],
      "source": [
        "#Exe 3\n",
        "class MyStack:\n",
        "  def __init__(self, capacity):\n",
        "    self.capacity = capacity\n",
        "    self.stack = []\n",
        "  def is_empty(self):\n",
        "    if len(self.stack) == 0:\n",
        "      return True\n",
        "    else:\n",
        "      return False\n",
        "  def is_full(self):\n",
        "    return len(self.stack) == self.capacity\n",
        "  def pop(self):\n",
        "    if not self.is_empty():\n",
        "      return self.stack.pop()\n",
        "    else:\n",
        "      return IndexError(\"pop from empty stack\")\n",
        "  def push(self, value):\n",
        "    if not self.is_full():\n",
        "      self.stack.append(value)\n",
        "    else:\n",
        "      raise IndexError(\"push to full stack \")\n",
        "  def top(self):\n",
        "    if not self.is_empty():\n",
        "      return self.stack[-1]\n",
        "    else:\n",
        "      raise IndexError(\"top from empty stack\")\n",
        "stack1 = MyStack(capacity=5)\n",
        "\n",
        "stack1.push(1)\n",
        "\n",
        "stack1.push(2)\n",
        "\n",
        "print(stack1.is_full())\n",
        "# >> False\n",
        "\n",
        "print(stack1.top())\n",
        "# >> 2\n",
        "\n",
        "print(stack1.pop())\n",
        "# >> 2\n",
        "\n",
        "print(stack1.top())\n",
        "# >> 1\n",
        "\n",
        "print(stack1.pop())\n",
        "# >> 1\n",
        "\n",
        "print(stack1.is_empty())\n",
        "# >> True\n"
      ]
    },
    {
      "cell_type": "code",
      "source": [
        "#Exe 4\n",
        "class MyQueue:\n",
        "  def __init__(self, capacity):\n",
        "    self.capacity = capacity\n",
        "    self.queue = []\n",
        "  def is_empty(self):\n",
        "    return len(self.queue) == 0\n",
        "  def is_full(self):\n",
        "    return len(self.queue) == self.capacity\n",
        "  def dequeue(self):\n",
        "    if not self.is_empty():\n",
        "      return self.queue.pop(0)\n",
        "    else:\n",
        "      raise IndexError(\"Dequeue from empty queue\")\n",
        "  def enqueue(self, value):\n",
        "    if not self.is_full():\n",
        "      self.queue.append(value)\n",
        "    else:\n",
        "      raise IndexError(\"Enqueue from empty queue\")\n",
        "\n",
        "  def front(self):\n",
        "    return self.queue[0]\n",
        "queue1 = MyQueue(capacity=5)\n",
        "\n",
        "queue1.enqueue(1)\n",
        "queue1.enqueue(2)\n",
        "\n",
        "print(queue1.is_full())\n",
        "# >> False\n",
        "\n",
        "print(queue1.front())\n",
        "# >> 1\n",
        "\n",
        "print(queue1.dequeue())\n",
        "# >> 1\n",
        "\n",
        "print(queue1.front())\n",
        "# >> 2\n",
        "\n",
        "print(queue1.dequeue())\n",
        "# >> 2\n",
        "\n",
        "print(queue1.is_empty())\n",
        "# >> True\n"
      ],
      "metadata": {
        "colab": {
          "base_uri": "https://localhost:8080/"
        },
        "id": "mpzGfD66PP2D",
        "outputId": "26608008-8cd1-42f2-d805-3de49b6aab6d"
      },
      "execution_count": null,
      "outputs": [
        {
          "output_type": "stream",
          "name": "stdout",
          "text": [
            "False\n",
            "1\n",
            "1\n",
            "2\n",
            "2\n",
            "True\n"
          ]
        }
      ]
    },
    {
      "cell_type": "markdown",
      "source": [
        "# Phần code câu hỏi trắc nghiệm"
      ],
      "metadata": {
        "id": "XpWONBxSLfDD"
      }
    },
    {
      "cell_type": "code",
      "source": [
        "#exe2\n",
        "import torch\n",
        "import torch.nn as nn\n",
        "\n",
        "class MySoftmax(nn.Module):\n",
        "    def __init__(self):\n",
        "        super().__init__()\n",
        "\n",
        "    def forward(self, x):\n",
        "        e_x = torch.exp(x)\n",
        "        return e_x/torch.sum(e_x)\n",
        "\n",
        "data = torch.Tensor([5, 2, 4])\n",
        "my_softmax = MySoftmax()\n",
        "output = my_softmax(data)\n",
        "assert round(output[-1].item(), 2) == 0.26\n",
        "output\n"
      ],
      "metadata": {
        "colab": {
          "base_uri": "https://localhost:8080/"
        },
        "id": "4epJdtxEPXb2",
        "outputId": "17f6d3dd-af48-4904-9407-e240ed808138"
      },
      "execution_count": null,
      "outputs": [
        {
          "output_type": "execute_result",
          "data": {
            "text/plain": [
              "tensor([0.7054, 0.0351, 0.2595])"
            ]
          },
          "metadata": {},
          "execution_count": 10
        }
      ]
    },
    {
      "cell_type": "code",
      "source": [
        "#Ex 5:\n",
        "from abc import ABC, abstractmethod\n",
        "\n",
        "class Person(ABC):\n",
        "    def __init__(self, name: str, yob: int):\n",
        "        self._name = name\n",
        "        self._yob = yob\n",
        "\n",
        "    def get_yob(self):\n",
        "        return self._yob\n",
        "\n",
        "    def describe(self):\n",
        "        pass\n",
        "\n",
        "class Student(Person):\n",
        "    def __init__(self, name: str, yob: int, grade: str):\n",
        "        self._grade = grade\n",
        "        super().__init__(name, yob)\n",
        "        ### End Code Here\n",
        "\n",
        "    def describe(self):\n",
        "        print(self._name, self._yob, self._grade )\n",
        "student1 = Student(name=\"studentZ2023\", yob=2011, grade=\"6\")\n",
        "assert student1._yob == 2011\n",
        "student1.describe()\n"
      ],
      "metadata": {
        "colab": {
          "base_uri": "https://localhost:8080/"
        },
        "id": "wWrjJOzYPfT0",
        "outputId": "bab320da-399c-4464-e2c0-6b0eafe33e14"
      },
      "execution_count": null,
      "outputs": [
        {
          "output_type": "stream",
          "name": "stdout",
          "text": [
            "studentZ2023 2011 6\n"
          ]
        }
      ]
    },
    {
      "cell_type": "code",
      "source": [
        "\n"
      ],
      "metadata": {
        "colab": {
          "base_uri": "https://localhost:8080/"
        },
        "id": "yJ6Glg-0PzW3",
        "outputId": "071c2d15-f7cc-4dd1-dfae-b44f29d47c9c"
      },
      "execution_count": null,
      "outputs": [
        {
          "output_type": "stream",
          "name": "stdout",
          "text": [
            "Shape of features_X: (200, 4)\n"
          ]
        }
      ]
    },
    {
      "cell_type": "code",
      "source": [],
      "metadata": {
        "colab": {
          "base_uri": "https://localhost:8080/"
        },
        "id": "tS24d7pGQwL0",
        "outputId": "28488085-88d2-464a-f15d-dffb5cb9167b"
      },
      "execution_count": null,
      "outputs": [
        {
          "output_type": "stream",
          "name": "stdout",
          "text": [
            "Shape of features_X: (200, 4)\n",
            "1.0185991537088997e-06\n"
          ]
        }
      ]
    },
    {
      "cell_type": "code",
      "source": [],
      "metadata": {
        "colab": {
          "base_uri": "https://localhost:8080/"
        },
        "id": "8Ts6rqKUT0CN",
        "outputId": "1e38ef4c-73f9-4dbc-a7d3-b07e30a9a725"
      },
      "execution_count": null,
      "outputs": [
        {
          "output_type": "stream",
          "name": "stdout",
          "text": [
            " individual1 :  [4.09, 4.82, -0.79, -2.41]\n",
            " individual2 :  [3.44, 2.57, 3.1, 4.02]\n"
          ]
        }
      ]
    },
    {
      "cell_type": "code",
      "source": [],
      "metadata": {
        "colab": {
          "base_uri": "https://localhost:8080/"
        },
        "id": "bTkB4smwP2Vh",
        "outputId": "c6d57c2f-189e-4e60-9ee3-998871f34d1b"
      },
      "execution_count": null,
      "outputs": [
        {
          "output_type": "stream",
          "name": "stdout",
          "text": [
            "False\n"
          ]
        }
      ]
    },
    {
      "cell_type": "code",
      "source": [],
      "metadata": {
        "colab": {
          "base_uri": "https://localhost:8080/"
        },
        "id": "fA5rdpijVP51",
        "outputId": "ed7611ae-9fc6-4029-8634-8acec6328aa1"
      },
      "execution_count": null,
      "outputs": [
        {
          "output_type": "stream",
          "name": "stdout",
          "text": [
            "Best loss: 123415.051528805 with chromosome: [3.44, 2.57, -0.79, -2.41]\n",
            "New Population: [[4.09, 4.82, 3.1, 4.02], [3.44, 2.57, -0.79, -2.41]]\n",
            "Best Loss: 123415.051528805\n"
          ]
        }
      ]
    }
  ]
}